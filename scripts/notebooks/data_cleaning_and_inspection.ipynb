{
 "cells": [
  {
   "cell_type": "markdown",
   "metadata": {},
   "source": [
    "This notebook is used to put the audio datasets in suitable csv format to create image datasets, and inspect the properties of the datasets"
   ]
  },
  {
   "cell_type": "code",
   "execution_count": 1,
   "metadata": {},
   "outputs": [],
   "source": [
    "import os\n",
    "import shutil\n",
    "from collections import Counter\n",
    "\n",
    "from tqdm import tqdm\n",
    "import pandas as pd\n",
    "from scipy.io import wavfile\n",
    "import matplotlib.pyplot as plt\n",
    "import numpy as np"
   ]
  },
  {
   "cell_type": "code",
   "execution_count": 2,
   "metadata": {},
   "outputs": [],
   "source": [
    "dataset_folder_path = \"\"\n",
    "dataset_name = \"\""
   ]
  },
  {
   "cell_type": "markdown",
   "metadata": {},
   "source": [
    "## Data Cleaning"
   ]
  },
  {
   "cell_type": "code",
   "execution_count": null,
   "metadata": {},
   "outputs": [],
   "source": [
    "os.listdir(os.path.join(dataset_folder_path, dataset_name))"
   ]
  },
  {
   "cell_type": "code",
   "execution_count": null,
   "metadata": {},
   "outputs": [],
   "source": [
    "os.makedirs(os.path.join(dataset_folder_path, dataset_name, \"clean_data\"))\n",
    "os.makedirs(os.path.join(dataset_folder_path, dataset_name, \"clean_data\", \"fake\"))\n",
    "os.makedirs(os.path.join(dataset_folder_path, dataset_name, \"clean_data\", \"real\"))"
   ]
  },
  {
   "cell_type": "code",
   "execution_count": null,
   "metadata": {},
   "outputs": [],
   "source": [
    "df = pd.read_csv(os.path.join(dataset_folder_path, dataset_name, \"meta.csv\"))\n",
    "print(\"length: \", len(df), \"\\nlabels: \", df[\"label\"].unique(), \"\\n\",\n",
    "      \"number of fake audios: \", len(df[df[\"label\"] == \"spoof\"]), \"\\n\"\n",
    "      \"number of real audios: \", len(df[df[\"label\"] == \"bona-fide\"]), sep=\"\")\n",
    "df.head(2)"
   ]
  },
  {
   "cell_type": "code",
   "execution_count": null,
   "metadata": {},
   "outputs": [],
   "source": [
    "# re-formats the In The Wild dataset\n",
    "sample_count = 1000000\n",
    "spoof_counter = 0\n",
    "real_counter = 0\n",
    "\n",
    "for i, row in tqdm(enumerate(df.values)):\n",
    "    original_name = row[0]\n",
    "    speaker = row[1]\n",
    "    category = row[2]\n",
    "\n",
    "    new_name = speaker.replace(\" \", \"_\") + \"_\" + original_name\n",
    "\n",
    "    if spoof_counter < sample_count and category == \"spoof\":\n",
    "        shutil.copy(os.path.join(dataset_folder_path, dataset_name, \"wavs\", original_name), \n",
    "        os.path.join(dataset_folder_path, dataset_name, \"clean_data\", \"fake\", new_name))\n",
    "        spoof_counter = spoof_counter + 1\n",
    "    \n",
    "    if real_counter < sample_count and category == \"bona-fide\":\n",
    "        shutil.copy(os.path.join(dataset_folder_path, dataset_name, \"wavs\", original_name), \n",
    "        os.path.join(dataset_folder_path, dataset_name, \"clean_data\", \"real\", new_name))\n",
    "        real_counter = real_counter + 1\n",
    "\n",
    "    if spoof_counter == sample_count and real_counter == sample_count:\n",
    "        break"
   ]
  },
  {
   "cell_type": "code",
   "execution_count": null,
   "metadata": {},
   "outputs": [],
   "source": [
    "# create csv file of the real part\n",
    "real_path = os.path.join(dataset_folder_path, dataset_name, \"clean_data\", \"real\")\n",
    "real_wavs = os.listdir(real_path)\n",
    "real_dataframe_values = []\n",
    "\n",
    "for wav_file in tqdm(real_wavs):\n",
    "    file_path = os.path.join(real_path, wav_file)\n",
    "    samplerate, data = wavfile.read(file_path)\n",
    "    audio_length = len(data) // samplerate\n",
    "    real_dataframe_values.append([file_path, samplerate, len(data), audio_length])\n",
    "\n",
    "real_dataframe = pd.DataFrame(columns=[\"path\", \"sample_rate\", \"total_sample_number\", \"seconds\"], data=real_dataframe_values)\n",
    "real_dataframe.to_csv(os.path.join(dataset_folder_path, dataset_name, \"clean_data\", \"real.csv\"), index=False)"
   ]
  },
  {
   "cell_type": "code",
   "execution_count": null,
   "metadata": {},
   "outputs": [],
   "source": [
    "# create csv file of the fake part\n",
    "fake_path = os.path.join(dataset_folder_path, dataset_name, \"clean_data\", \"fake\")\n",
    "fake_wavs = os.listdir(fake_path)\n",
    "fake_dataframe_values = []\n",
    "\n",
    "for wav_file in tqdm(fake_wavs):\n",
    "    file_path = os.path.join(fake_path, wav_file)\n",
    "    samplerate, data = wavfile.read(file_path)\n",
    "    audio_length = len(data) // samplerate\n",
    "    fake_dataframe_values.append([file_path, samplerate, len(data), audio_length])\n",
    "\n",
    "fake_dataframe = pd.DataFrame(columns=[\"path\", \"sample_rate\", \"total_sample_number\", \"seconds\"], data=fake_dataframe_values)\n",
    "fake_dataframe.to_csv(os.path.join(dataset_folder_path, dataset_name, \"clean_data\", \"fake.csv\"), index=False)"
   ]
  },
  {
   "cell_type": "markdown",
   "metadata": {},
   "source": [
    "# Data Inspection"
   ]
  },
  {
   "cell_type": "code",
   "execution_count": 3,
   "metadata": {},
   "outputs": [],
   "source": [
    "real_df = pd.read_csv(os.path.join(dataset_folder_path, dataset_name, \"clean_data\", \"real.csv\"))\n",
    "fake_df = pd.read_csv(os.path.join(dataset_folder_path, dataset_name, \"clean_data\", \"fake.csv\"))"
   ]
  },
  {
   "cell_type": "code",
   "execution_count": null,
   "metadata": {},
   "outputs": [],
   "source": [
    "# plot the audio lengths\n",
    "real_seconds_occurance = real_df[\"seconds\"].value_counts().sort_index()\n",
    "fake_seconds_occurance = fake_df[\"seconds\"].value_counts().sort_index()\n",
    "\n",
    "fig, ax = plt.subplots(figsize=(12, 6))\n",
    "\n",
    "bar_width = 0.35\n",
    "bar_positions_real = real_seconds_occurance.index - bar_width/2\n",
    "bar_positions_fake = fake_seconds_occurance.index + bar_width/2\n",
    "\n",
    "ax.bar(bar_positions_real, real_seconds_occurance, width=bar_width, color='green', alpha=0.7, label='Real', edgecolor='black')\n",
    "ax.bar(bar_positions_fake, fake_seconds_occurance, width=bar_width, color='red', alpha=0.7, label='Fake', edgecolor='black')\n",
    "\n",
    "ax.set_xlabel('Audio length in seconds')\n",
    "ax.set_ylabel('Occurrences')\n",
    "ax.set_title('Histogram of audio length occurrences')\n",
    "ax.set_ylim(0, 5000)\n",
    "ax.set_yticks(range(0, 5001, 500))\n",
    "ax.legend()\n",
    "\n",
    "plt.tight_layout()\n",
    "plt.show()"
   ]
  },
  {
   "cell_type": "code",
   "execution_count": null,
   "metadata": {},
   "outputs": [],
   "source": [
    "# plot the speaker counts\n",
    "real_speakers = [p[p.index(\"/real/\")+6 : p.rindex(\"_\")] for p in real_df[\"path\"]]\n",
    "real_speakers_occurance = dict(sorted(Counter(real_speakers).items(), key=lambda x: x[1], reverse=True))\n",
    "real_names, real_occurrences = zip(*real_speakers_occurance.items())\n",
    "\n",
    "fake_speakers = [p[p.index(\"/fake/\")+6 : p.rindex(\"_\")] for p in fake_df[\"path\"]]\n",
    "fake_speakers_occurance = dict(sorted(Counter(fake_speakers).items(), key=lambda x: list(real_speakers_occurance.keys()).index(x[0])))\n",
    "fake_names, fake_occurrences = zip(*fake_speakers_occurance.items())\n",
    "\n",
    "fig, ax = plt.subplots(figsize=(15, 15))\n",
    "\n",
    "bar_width = 0.35\n",
    "bar_positions_real = np.arange(len(real_names))\n",
    "bar_positions_fake = bar_positions_real + bar_width\n",
    "\n",
    "ax.barh(bar_positions_real, real_occurrences, height=bar_width, color='green', edgecolor='black', label='Real')\n",
    "ax.barh(bar_positions_fake, fake_occurrences, height=bar_width, color='red', edgecolor='black', label='Fake')\n",
    "\n",
    "ax.set_yticks(bar_positions_real + bar_width/2)\n",
    "ax.set_yticklabels(real_names)\n",
    "ax.set_xlabel('Occurrences')\n",
    "ax.set_title('Occurrences of Speakers')\n",
    "ax.set_xlim(0, 3500)\n",
    "ax.set_xticks(range(0, 3501, 500))\n",
    "ax.legend()\n",
    "\n",
    "plt.tight_layout()\n",
    "plt.show()"
   ]
  }
 ],
 "metadata": {
  "kernelspec": {
   "display_name": "Python 3",
   "language": "python",
   "name": "python3"
  },
  "language_info": {
   "codemirror_mode": {
    "name": "ipython",
    "version": 3
   },
   "file_extension": ".py",
   "mimetype": "text/x-python",
   "name": "python",
   "nbconvert_exporter": "python",
   "pygments_lexer": "ipython3",
   "version": "3.10.12"
  },
  "orig_nbformat": 4,
  "vscode": {
   "interpreter": {
    "hash": "916dbcbb3f70747c44a77c7bcd40155683ae19c65e1c03b4aa3499c5328201f1"
   }
  }
 },
 "nbformat": 4,
 "nbformat_minor": 2
}
